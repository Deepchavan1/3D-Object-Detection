{
 "cells": [
  {
   "cell_type": "code",
   "execution_count": 4,
   "id": "56bbd795",
   "metadata": {},
   "outputs": [],
   "source": [
    "import tensorflow as tf\n",
    "from tensorflow import keras\n",
    "from keras.layers import *\n",
    "from keras.models import *\n",
    "import numpy as np"
   ]
  },
  {
   "cell_type": "code",
   "execution_count": 5,
   "id": "dbcf79fa",
   "metadata": {},
   "outputs": [],
   "source": [
    "class ConvMiddleLayer(tf.keras.layers.Layer):\n",
    "    \n",
    "    def __init__(self, out_shape):\n",
    "        super(ConvMiddleLayer, self).__init__()\n",
    "        self.out_shape = out_shape\n",
    "\n",
    "        self.conv1 = Conv3D(64, (3,3,3), (2,1,1), data_format=\"channels_first\", padding=\"VALID\")\n",
    "        self.conv2 = Conv3D(64, (3,3,3), (1,1,1), data_format=\"channels_first\", padding=\"VALID\")\n",
    "        self.conv3 = Conv3D(64, (3,3,3), (2,1,1), data_format=\"channels_first\", padding=\"VALID\")\n",
    "\n",
    "        self.bn1 = BatchNormalization(trainable=True)\n",
    "        self.bn2 = BatchNormalization(trainable=True)\n",
    "        self.bn3 = BatchNormalization(trainable=True)\n",
    "\n",
    "    def call(self, input):\n",
    "    \n",
    "        # Refer to the paper, section 3 for details \n",
    "        out = tf.pad(input, [(0,0)]*2 + [(1,1)]*3)\n",
    "        out = ReLU()(self.bn1(self.conv1(out)))\n",
    "\n",
    "        out = tf.pad(out, [(0,0)]*3 + [(1,1)]*2)\n",
    "        out = ReLU()(self.bn2(self.conv2(out)))\n",
    "\n",
    "        out = tf.pad(out, [(0,0)]*2 + [(1,1)]*3)\n",
    "        out = ReLU()(self.bn3(self.conv3(out)))\n",
    "        \n",
    "        return tf.reshape(out, self.out_shape)"
   ]
  },
  {
   "cell_type": "code",
   "execution_count": null,
   "id": "bda26c8e",
   "metadata": {},
   "outputs": [],
   "source": []
  }
 ],
 "metadata": {
  "kernelspec": {
   "display_name": "Python 3 (ipykernel)",
   "language": "python",
   "name": "python3"
  },
  "language_info": {
   "codemirror_mode": {
    "name": "ipython",
    "version": 3
   },
   "file_extension": ".py",
   "mimetype": "text/x-python",
   "name": "python",
   "nbconvert_exporter": "python",
   "pygments_lexer": "ipython3",
   "version": "3.9.15"
  }
 },
 "nbformat": 4,
 "nbformat_minor": 5
}
