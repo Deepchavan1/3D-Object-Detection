{
 "cells": [
  {
   "cell_type": "code",
   "execution_count": 1,
   "id": "56bbd795",
   "metadata": {},
   "outputs": [],
   "source": [
    "import tensorflow as tf\n",
    "from tensorflow import keras\n",
    "from keras.layers import *\n",
    "from keras.models import *\n",
    "import numpy as np"
   ]
  },
  {
   "cell_type": "code",
   "execution_count": 2,
   "id": "dbcf79fa",
   "metadata": {},
   "outputs": [],
   "source": [
    "def ConvMiddlelayer(input_shape, out_shape):\n",
    "    \n",
    "    in_img = Input(shape=input_shape)\n",
    "    \n",
    "    pad1 = tf.pad(in_img, [(0,0)]*2 + [(1,1)]*3)\n",
    "    \n",
    "    conv1 = Conv3D(64, (3,3,3), (2,1,1), padding='valid')(pad1)\n",
    "    bn1 = BatchNormalization()(conv1)\n",
    "    act1 = ReLU()(bn1)\n",
    "    \n",
    "    pad2 = tf.pad(act1, [(0,0)]*3 + [(1,1)]*2)\n",
    "    conv2 = Conv3D(64, (3,3,3), (1,1,1), padding='valid')(pad2)\n",
    "    bn2 = BatchNormalization()(conv2)\n",
    "    act2 = ReLU()(bn2)\n",
    "    \n",
    "    pad3 = tf.pad(act2, [(0,0)]*2 + [(1,1)]*3)    \n",
    "    conv3 = Conv3D(64, (3,3,3), (2,1,1), padding='valid')(pad3)\n",
    "    bn3 = BatchNormalization()(conv3)\n",
    "    output = ReLU()(bn3)\n",
    "    \n",
    "    output = tf.reshape(output, out_shape)\n",
    "    \n",
    "#     cml = keras.models.Model(in_img, outputs=[output])\n",
    "    \n",
    "    return output\n",
    "    \n",
    "# model = ConvMiddlelayer((256,256,256,3), (62, 254, 256, 64))\n",
    "# model.summary()"
   ]
  },
  {
   "cell_type": "code",
   "execution_count": null,
   "id": "bb94a14e",
   "metadata": {},
   "outputs": [],
   "source": []
  }
 ],
 "metadata": {
  "kernelspec": {
   "display_name": "Python 3 (ipykernel)",
   "language": "python",
   "name": "python3"
  },
  "language_info": {
   "codemirror_mode": {
    "name": "ipython",
    "version": 3
   },
   "file_extension": ".py",
   "mimetype": "text/x-python",
   "name": "python",
   "nbconvert_exporter": "python",
   "pygments_lexer": "ipython3",
   "version": "3.9.8"
  }
 },
 "nbformat": 4,
 "nbformat_minor": 5
}
