{
 "cells": [
  {
   "cell_type": "code",
   "execution_count": 1,
   "id": "4461d959",
   "metadata": {},
   "outputs": [],
   "source": [
    "import import_ipynb"
   ]
  },
  {
   "cell_type": "code",
   "execution_count": 4,
   "id": "50e66b59",
   "metadata": {},
   "outputs": [],
   "source": [
    "from rpn import rgn\n",
    "from convmidlayer import ConvMiddlelayer\n",
    "from Feature_learning_network import VFE_Block, cfg"
   ]
  },
  {
   "cell_type": "code",
   "execution_count": null,
   "id": "ceec3f81",
   "metadata": {},
   "outputs": [],
   "source": [
    "def model(cfg):\n",
    "    \n",
    "    batch_size = 4\n",
    "    vfe_block = VFE_Block(cfg.VFE_OUT_DIMS, cfg.VFE_FINAl_OUT_DIM, cfg.GRID_SIZE )\n",
    "    \n",
    "    convMiddle = ConvMiddleLayer((batch_size, -1, *cfg.GRID_SIZE[1:]))\n",
    "    \n",
    "    rpn = RPN(cfg.NUM_ANCHORS_PER_CELL)\n",
    "    \n",
    "    "
   ]
  }
 ],
 "metadata": {
  "kernelspec": {
   "display_name": "Python 3 (ipykernel)",
   "language": "python",
   "name": "python3"
  },
  "language_info": {
   "codemirror_mode": {
    "name": "ipython",
    "version": 3
   },
   "file_extension": ".py",
   "mimetype": "text/x-python",
   "name": "python",
   "nbconvert_exporter": "python",
   "pygments_lexer": "ipython3",
   "version": "3.9.15"
  }
 },
 "nbformat": 4,
 "nbformat_minor": 5
}
